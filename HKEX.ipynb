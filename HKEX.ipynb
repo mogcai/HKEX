{
 "cells": [
  {
   "cell_type": "code",
   "execution_count": 1,
   "id": "206ce23e-a576-4fda-8369-b53b8883f243",
   "metadata": {},
   "outputs": [],
   "source": [
    "from bs4 import BeautifulSoup\n",
    "import pandas as pd\n",
    "import re\n",
    "import requests\n",
    "import io\n",
    "import json"
   ]
  },
  {
   "cell_type": "code",
   "execution_count": 2,
   "id": "68bf1ffd-2283-426e-bffa-eea52b73a401",
   "metadata": {},
   "outputs": [],
   "source": [
    "def get_hkex_json(page=1):\n",
    "    url=f'https://www1.hkexnews.hk/ncms/json/eds/lcisehk1relsdc_{page}.json'\n",
    "    headers = {'User-Agent': 'Mozilla/5.0 (Macintosh; Intel Mac OS X 10_10_1) AppleWebKit/537.36 (KHTML, like Gecko) Chrome/39.0.2171.95 Safari/537.36'}\n",
    "    response = requests.get(url, headers=headers).content\n",
    "    result=json.load(io.BytesIO(response))['newsInfoLst']\n",
    "    return result\n"
   ]
  },
  {
   "cell_type": "code",
   "execution_count": 3,
   "id": "183358a4-da4b-4b1e-a693-4f13f05c09ed",
   "metadata": {},
   "outputs": [],
   "source": [
    "def get_df(page=1):\n",
    "    result=get_hkex_json(page)\n",
    "    tmp=pd.DataFrame(result)\n",
    "    tmp['company']=tmp['stock'].apply(lambda x: x[0]['sn'].strip())\n",
    "    tmp['stock_no']=tmp['stock'].apply(lambda x: x[0]['sc'].strip())\n",
    "    tmp['link']='www.hkexnews.hk'+tmp['webPath']\n",
    "    tmp=tmp[['company', 'stock_no', 'title', 'link', 'relTime']]\n",
    "    return tmp\n",
    "\n",
    "df=pd.concat([get_df(x) for x in range(1,10)])"
   ]
  },
  {
   "cell_type": "code",
   "execution_count": 4,
   "id": "b1e89740-bfee-40ab-a18e-563a651fedec",
   "metadata": {},
   "outputs": [
    {
     "data": {
      "text/html": [
       "<div>\n",
       "<style scoped>\n",
       "    .dataframe tbody tr th:only-of-type {\n",
       "        vertical-align: middle;\n",
       "    }\n",
       "\n",
       "    .dataframe tbody tr th {\n",
       "        vertical-align: top;\n",
       "    }\n",
       "\n",
       "    .dataframe thead th {\n",
       "        text-align: right;\n",
       "    }\n",
       "</style>\n",
       "<table border=\"1\" class=\"dataframe\">\n",
       "  <thead>\n",
       "    <tr style=\"text-align: right;\">\n",
       "      <th></th>\n",
       "      <th>company</th>\n",
       "      <th>stock_no</th>\n",
       "      <th>title</th>\n",
       "      <th>link</th>\n",
       "      <th>relTime</th>\n",
       "    </tr>\n",
       "  </thead>\n",
       "  <tbody>\n",
       "    <tr>\n",
       "      <th>0</th>\n",
       "      <td>中國建築興業</td>\n",
       "      <td>00830</td>\n",
       "      <td>重續有關中國海外發展工程之持續關連交易</td>\n",
       "      <td>www.hkexnews.hk/listedco/listconews/sehk/2024/...</td>\n",
       "      <td>28/05/2024 17:46</td>\n",
       "    </tr>\n",
       "    <tr>\n",
       "      <th>1</th>\n",
       "      <td>首程控股</td>\n",
       "      <td>00697</td>\n",
       "      <td>翌日披露報表</td>\n",
       "      <td>www.hkexnews.hk/listedco/listconews/sehk/2024/...</td>\n",
       "      <td>28/05/2024 17:46</td>\n",
       "    </tr>\n",
       "    <tr>\n",
       "      <th>2</th>\n",
       "      <td>方達控股</td>\n",
       "      <td>01521</td>\n",
       "      <td>於2024年5月28日舉行之股東週年大會的表決結果</td>\n",
       "      <td>www.hkexnews.hk/listedco/listconews/sehk/2024/...</td>\n",
       "      <td>28/05/2024 17:43</td>\n",
       "    </tr>\n",
       "    <tr>\n",
       "      <th>3</th>\n",
       "      <td>中國建築興業</td>\n",
       "      <td>00830</td>\n",
       "      <td>於2024年6月25日舉行的股東特別大會上適用的代表委任表格</td>\n",
       "      <td>www.hkexnews.hk/listedco/listconews/sehk/2024/...</td>\n",
       "      <td>28/05/2024 17:43</td>\n",
       "    </tr>\n",
       "    <tr>\n",
       "      <th>4</th>\n",
       "      <td>騰訊控股</td>\n",
       "      <td>00700</td>\n",
       "      <td>翌日披露報表 - 已發行股本變動及/或股份購回</td>\n",
       "      <td>www.hkexnews.hk/listedco/listconews/sehk/2024/...</td>\n",
       "      <td>28/05/2024 17:41</td>\n",
       "    </tr>\n",
       "  </tbody>\n",
       "</table>\n",
       "</div>"
      ],
      "text/plain": [
       "  company stock_no                           title  \\\n",
       "0  中國建築興業    00830             重續有關中國海外發展工程之持續關連交易   \n",
       "1    首程控股    00697                          翌日披露報表   \n",
       "2    方達控股    01521       於2024年5月28日舉行之股東週年大會的表決結果   \n",
       "3  中國建築興業    00830  於2024年6月25日舉行的股東特別大會上適用的代表委任表格   \n",
       "4    騰訊控股    00700         翌日披露報表 - 已發行股本變動及/或股份購回   \n",
       "\n",
       "                                                link           relTime  \n",
       "0  www.hkexnews.hk/listedco/listconews/sehk/2024/...  28/05/2024 17:46  \n",
       "1  www.hkexnews.hk/listedco/listconews/sehk/2024/...  28/05/2024 17:46  \n",
       "2  www.hkexnews.hk/listedco/listconews/sehk/2024/...  28/05/2024 17:43  \n",
       "3  www.hkexnews.hk/listedco/listconews/sehk/2024/...  28/05/2024 17:43  \n",
       "4  www.hkexnews.hk/listedco/listconews/sehk/2024/...  28/05/2024 17:41  "
      ]
     },
     "execution_count": 4,
     "metadata": {},
     "output_type": "execute_result"
    }
   ],
   "source": [
    "df.head()"
   ]
  },
  {
   "cell_type": "code",
   "execution_count": null,
   "id": "6ac0429c-7102-4af1-b8e8-ee9b021cefec",
   "metadata": {},
   "outputs": [],
   "source": []
  }
 ],
 "metadata": {
  "kernelspec": {
   "display_name": "venv",
   "language": "python",
   "name": "venv"
  },
  "language_info": {
   "codemirror_mode": {
    "name": "ipython",
    "version": 3
   },
   "file_extension": ".py",
   "mimetype": "text/x-python",
   "name": "python",
   "nbconvert_exporter": "python",
   "pygments_lexer": "ipython3",
   "version": "3.9.17"
  }
 },
 "nbformat": 4,
 "nbformat_minor": 5
}
